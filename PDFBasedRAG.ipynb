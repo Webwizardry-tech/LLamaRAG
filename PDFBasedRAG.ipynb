{
 "cells": [
  {
   "cell_type": "code",
   "execution_count": null,
   "id": "86f9dbc8-9ef3-4f3c-b21c-e99e88b363c3",
   "metadata": {},
   "outputs": [],
   "source": [
    "from langchain_ollama import OllamaLLM\n",
    "llm = OllamaLLM(model = \"llama3.2:1b\")"
   ]
  },
  {
   "cell_type": "code",
   "execution_count": null,
   "id": "a28f0f7a-8b1e-44cc-b3d6-ada40cba7e4a",
   "metadata": {},
   "outputs": [],
   "source": [
    "#PDF Loader\n",
    "from langchain.document_loaders import PyPDFLoader\n",
    "file_path = './Learning_Python.pdf'\n",
    "loader = PyPDFLoader(file_path)\n",
    "docs = loader.load()"
   ]
  },
  {
   "cell_type": "code",
   "execution_count": null,
   "id": "81808b26-81e8-455a-9dc0-d9b2a3ad01e7",
   "metadata": {},
   "outputs": [],
   "source": [
    "#Text chunk creation\n",
    "from langchain.text_splitter import RecursiveCharacterTextSplitter\n",
    "text_splitter = RecursiveCharacterTextSplitter(chunk_size=650, chunk_overlap=0)\n",
    "chunks = text_splitter.split_documents(docs)"
   ]
  },
  {
   "cell_type": "code",
   "execution_count": null,
   "id": "f8e6c18c-da81-4c67-be94-229d14ad73c2",
   "metadata": {},
   "outputs": [],
   "source": [
    "len(chunks)"
   ]
  },
  {
   "cell_type": "code",
   "execution_count": null,
   "id": "7a4e6d1e-c479-4c49-90ac-8438c938ac90",
   "metadata": {},
   "outputs": [],
   "source": [
    "#Creating Embeddings for each of the chunk\n",
    "from langchain_ollama import OllamaEmbeddings\n",
    "embed = OllamaEmbeddings(\n",
    "    model=\"nomic-embed-text:latest\"\n",
    ")"
   ]
  },
  {
   "cell_type": "code",
   "execution_count": null,
   "id": "ba0eb48d-562e-4451-a33c-5ec5d4cbf42f",
   "metadata": {},
   "outputs": [],
   "source": [
    "from langchain_chroma import Chroma\n",
    "from langchain_core.documents import Document\n",
    "vector_store = Chroma(\n",
    "    collection_name=\"PythonBook\",\n",
    "    embedding_function=embed,\n",
    "    persist_directory=\"./chroma_langchain_db\",  # Where to save data locally, remove if not neccesary\n",
    ")\n",
    "\n",
    "vector_store.add_documents(chunks)"
   ]
  },
  {
   "cell_type": "code",
   "execution_count": null,
   "id": "adcbe756-ad75-4c77-ba79-812f93e979bf",
   "metadata": {
    "scrolled": true
   },
   "outputs": [],
   "source": [
    "retriever = vector_store.as_retriever()\n",
    "#retreived_docs = retriever.invoke(\"What are Lists?\")"
   ]
  },
  {
   "cell_type": "code",
   "execution_count": 77,
   "id": "1c7c72d2-b194-486f-8937-b955aa7d0643",
   "metadata": {},
   "outputs": [
    {
     "name": "stdout",
     "output_type": "stream",
     "text": [
      "input_variables=['context', 'question'] input_types={} partial_variables={} messages=[HumanMessagePromptTemplate(prompt=PromptTemplate(input_variables=['context', 'question'], input_types={}, partial_variables={}, template=\"You are an assistant for question-answering tasks. \\nUse the following pieces of retrieved context to answer the question. \\nIf you don't know the answer, just say that you don't know. \\nExplain the question in detail with examples.\\nQuestion: {question} \\nContext: {context} \\nAnswer:\\n\"), additional_kwargs={})]\n"
     ]
    }
   ],
   "source": [
    "from langchain.prompts import ChatPromptTemplate\n",
    "\n",
    "template = \"\"\"You are an assistant for question-answering tasks. \n",
    "Use the following pieces of retrieved context to answer the question. \n",
    "If you don't know the answer, just say that you don't know. \n",
    "Explain the question in detail with examples.\n",
    "Question: {question} \n",
    "Context: {context} \n",
    "Answer:\n",
    "\"\"\"\n",
    "prompt = ChatPromptTemplate.from_template(template)\n",
    "\n",
    "print(prompt)"
   ]
  },
  {
   "cell_type": "code",
   "execution_count": 79,
   "id": "768f8cad-ce4d-4a76-a18b-df631dd4f467",
   "metadata": {},
   "outputs": [
    {
     "data": {
      "text/plain": [
       "'I\\'d be happy to help you understand the difference between classes and dictionaries.\\n\\n**What is a Class?**\\n\\nA class is a blueprint or a template that defines the properties and behavior of an object. It\\'s essentially a template for creating objects that have similar characteristics. A class typically includes attributes (data) and methods (functions that operate on that data). When you create an instance of a class, you\\'re creating a new object that has its own set of attributes and can perform its specific actions.\\n\\n**What is a Dictionary?**\\n\\nA dictionary is a collection of key-value pairs where each key is unique and maps to a specific value. In other words, dictionaries are collections of data with keys that identify the values. Dictionaries are mutable (meaning they can be changed after creation), meaning you can add or remove items from them as needed.\\n\\n**Key differences between Classes and Dictionaries:**\\n\\n1. **Data storage**: A class stores attributes (data) while a dictionary stores key-value pairs.\\n2. **Modularity**: Classes allow for modularity, where each attribute has its own set of responsibilities, making it easier to modify or extend the object in the future. Dictionaries are more flexible but less modular.\\n3. **Flexibility**: While dictionaries can store any type of data, classes are designed to encapsulate data and behavior tightly, making them more predictable and reusable.\\n4. **Scalability**: Classes allow for more efficient use of memory since each instance has its own set of attributes, while dictionaries can become unwieldy if you have many items.\\n5. **Instantiation**: When creating an instance of a class, Python automatically adds methods to the object based on those defined in the class definition. With dictionaries, you need to explicitly create methods using functions.\\n\\n**Examples:**\\n\\nTo illustrate the difference:\\n\\n- A dictionary can be thought of as a container for key-value pairs.\\n```python\\nperson = {\\'name\\': \\'John\\', \\'age\\': 30}\\nprint(person[\\'name\\'])  # Output: John\\n```\\n- A class is like a blueprint for creating objects that have their own attributes and behaviors. For example:\\n```python\\nclass Person:\\n    def __init__(self, name, age):\\n        self.name = name\\n        self.age = age\\n\\n    def greet(self):\\n        print(f\"Hello, my name is {self.name} and I\\'m {self.age} years old.\")\\n\\nperson1 = Person(\\'John\\', 30)\\nperson2 = Person(\\'Jane\\', 25)\\n\\nprint(person1.greet())  # Output: Hello, my name is John and I\\'m 30 years old.\\n```\\nIn summary, classes provide a more structured way to organize data and behavior in objects, while dictionaries offer flexibility and modularity but with limitations. Understanding the difference between these two concepts will help you write more effective and efficient code.'"
      ]
     },
     "execution_count": 79,
     "metadata": {},
     "output_type": "execute_result"
    }
   ],
   "source": [
    "from langchain.schema.runnable import RunnablePassthrough\n",
    "from langchain.schema.output_parser import StrOutputParser\n",
    "\n",
    "rag_chain = (\n",
    "    {\"context\": retriever,  \"question\": RunnablePassthrough()} \n",
    "    | prompt \n",
    "    | llm\n",
    "    | StrOutputParser() \n",
    ")\n",
    "\n",
    "query = \"What is the difference between classes and dictionaries?\"\n",
    "rag_chain.invoke(query)"
   ]
  },
  {
   "cell_type": "code",
   "execution_count": 73,
   "id": "81f99267-6561-48c6-acd3-e43057512bc4",
   "metadata": {},
   "outputs": [
    {
     "name": "stderr",
     "output_type": "stream",
     "text": [
      "D:\\Github Projects\\RAG\\Local_RAG_LLama3.1\\myenv\\Lib\\site-packages\\langsmith\\client.py:354: LangSmithMissingAPIKeyWarning: API key must be provided when using hosted LangSmith API\n",
      "  warnings.warn(\n"
     ]
    }
   ],
   "source": [
    "from langchain import hub\n",
    "prompt = hub.pull(\"rlm/rag-prompt\")\n",
    "\n",
    "example_messages = prompt.invoke(\n",
    "    {\"context\": \"filler context\", \"question\": \"filler question\"}\n",
    ").to_messages()\n"
   ]
  },
  {
   "cell_type": "code",
   "execution_count": 75,
   "id": "6cd0d9ee-a41d-47a9-951d-c7bff972d23a",
   "metadata": {},
   "outputs": [
    {
     "name": "stdout",
     "output_type": "stream",
     "text": [
      "Here's the answer to your question:\n",
      "\n",
      "A class is a collection of attributes (data) and methods (logic), whereas a dictionary is an unordered collection of key-value pairs. The main difference between them is that classes can store multiple instances with different attribute names, while dictionaries are indexed by keys, not positions.\n",
      "\n",
      "Additionally, classes have more flexibility in terms of their structure and organization, allowing for the creation of nested data structures or inheritance hierarchies. On the other hand, dictionaries are typically simpler and more straightforward in their implementation."
     ]
    }
   ],
   "source": [
    "from langchain_core.output_parsers import StrOutputParser\n",
    "from langchain_core.runnables import RunnablePassthrough\n",
    "\n",
    "\n",
    "def format_docs(docs):\n",
    "    return \"\\n\\n\".join(doc.page_content for doc in docs)\n",
    "\n",
    "\n",
    "rag_chain = (\n",
    "    {\"context\": retriever | format_docs, \"question\": RunnablePassthrough()}\n",
    "    | prompt\n",
    "    | llm\n",
    "    | StrOutputParser()\n",
    ")\n",
    "\n",
    "for chunk in rag_chain.stream(\"What is the difference between classes and dictionaries\"):\n",
    "    print(chunk, end=\"\", flush=True)"
   ]
  },
  {
   "cell_type": "code",
   "execution_count": null,
   "id": "3547a0d0-c9a5-4406-abd5-f4ecd55f8a2f",
   "metadata": {},
   "outputs": [],
   "source": []
  }
 ],
 "metadata": {
  "kernelspec": {
   "display_name": "Python 3 (ipykernel)",
   "language": "python",
   "name": "python3"
  },
  "language_info": {
   "codemirror_mode": {
    "name": "ipython",
    "version": 3
   },
   "file_extension": ".py",
   "mimetype": "text/x-python",
   "name": "python",
   "nbconvert_exporter": "python",
   "pygments_lexer": "ipython3",
   "version": "3.11.4"
  }
 },
 "nbformat": 4,
 "nbformat_minor": 5
}
